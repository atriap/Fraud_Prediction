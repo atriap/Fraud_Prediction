{
  "cells": [
    {
      "cell_type": "markdown",
      "metadata": {
        "id": "view-in-github",
        "colab_type": "text"
      },
      "source": [
        "<a href=\"https://colab.research.google.com/github/atriap/Fraud_Prediction/blob/main/Fraud.ipynb\" target=\"_parent\"><img src=\"https://colab.research.google.com/assets/colab-badge.svg\" alt=\"Open In Colab\"/></a>"
      ]
    },
    {
      "cell_type": "markdown",
      "source": [
        "## Exploratory Data Analysis"
      ],
      "metadata": {
        "id": "Hv4r-K1J3cYv"
      },
      "id": "Hv4r-K1J3cYv"
    },
    {
      "cell_type": "code",
      "execution_count": null,
      "id": "developing-manhattan",
      "metadata": {
        "id": "developing-manhattan"
      },
      "outputs": [],
      "source": [
        "## REQUIRED LIBRARIES\n",
        "# For data wrangling \n",
        "import numpy as np\n",
        "import pandas as pd\n",
        "\n",
        "# For visualization\n",
        "import matplotlib.pyplot as plt\n",
        "%matplotlib inline\n",
        "import seaborn as sns\n",
        "pd.options.display.max_rows = None\n",
        "pd.options.display.max_columns = None"
      ]
    },
    {
      "cell_type": "code",
      "execution_count": null,
      "id": "humanitarian-grant",
      "metadata": {
        "id": "humanitarian-grant",
        "outputId": "88ec2f58-7c2a-49b1-bc23-fd0bcdd5c3cd"
      },
      "outputs": [
        {
          "data": {
            "text/html": [
              "<div>\n",
              "<style scoped>\n",
              "    .dataframe tbody tr th:only-of-type {\n",
              "        vertical-align: middle;\n",
              "    }\n",
              "\n",
              "    .dataframe tbody tr th {\n",
              "        vertical-align: top;\n",
              "    }\n",
              "\n",
              "    .dataframe thead th {\n",
              "        text-align: right;\n",
              "    }\n",
              "</style>\n",
              "<table border=\"1\" class=\"dataframe\">\n",
              "  <thead>\n",
              "    <tr style=\"text-align: right;\">\n",
              "      <th></th>\n",
              "      <th>step</th>\n",
              "      <th>type</th>\n",
              "      <th>amount</th>\n",
              "      <th>nameOrig</th>\n",
              "      <th>oldbalanceOrg</th>\n",
              "      <th>newbalanceOrig</th>\n",
              "      <th>nameDest</th>\n",
              "      <th>oldbalanceDest</th>\n",
              "      <th>newbalanceDest</th>\n",
              "      <th>isFraud</th>\n",
              "      <th>isFlaggedFraud</th>\n",
              "    </tr>\n",
              "  </thead>\n",
              "  <tbody>\n",
              "    <tr>\n",
              "      <th>0</th>\n",
              "      <td>1</td>\n",
              "      <td>PAYMENT</td>\n",
              "      <td>9839.64</td>\n",
              "      <td>C1231006815</td>\n",
              "      <td>170136.0</td>\n",
              "      <td>160296.36</td>\n",
              "      <td>M1979787155</td>\n",
              "      <td>0.0</td>\n",
              "      <td>0.0</td>\n",
              "      <td>0</td>\n",
              "      <td>0</td>\n",
              "    </tr>\n",
              "    <tr>\n",
              "      <th>1</th>\n",
              "      <td>1</td>\n",
              "      <td>PAYMENT</td>\n",
              "      <td>1864.28</td>\n",
              "      <td>C1666544295</td>\n",
              "      <td>21249.0</td>\n",
              "      <td>19384.72</td>\n",
              "      <td>M2044282225</td>\n",
              "      <td>0.0</td>\n",
              "      <td>0.0</td>\n",
              "      <td>0</td>\n",
              "      <td>0</td>\n",
              "    </tr>\n",
              "    <tr>\n",
              "      <th>2</th>\n",
              "      <td>1</td>\n",
              "      <td>TRANSFER</td>\n",
              "      <td>181.00</td>\n",
              "      <td>C1305486145</td>\n",
              "      <td>181.0</td>\n",
              "      <td>0.00</td>\n",
              "      <td>C553264065</td>\n",
              "      <td>0.0</td>\n",
              "      <td>0.0</td>\n",
              "      <td>1</td>\n",
              "      <td>0</td>\n",
              "    </tr>\n",
              "    <tr>\n",
              "      <th>3</th>\n",
              "      <td>1</td>\n",
              "      <td>CASH_OUT</td>\n",
              "      <td>181.00</td>\n",
              "      <td>C840083671</td>\n",
              "      <td>181.0</td>\n",
              "      <td>0.00</td>\n",
              "      <td>C38997010</td>\n",
              "      <td>21182.0</td>\n",
              "      <td>0.0</td>\n",
              "      <td>1</td>\n",
              "      <td>0</td>\n",
              "    </tr>\n",
              "    <tr>\n",
              "      <th>4</th>\n",
              "      <td>1</td>\n",
              "      <td>PAYMENT</td>\n",
              "      <td>11668.14</td>\n",
              "      <td>C2048537720</td>\n",
              "      <td>41554.0</td>\n",
              "      <td>29885.86</td>\n",
              "      <td>M1230701703</td>\n",
              "      <td>0.0</td>\n",
              "      <td>0.0</td>\n",
              "      <td>0</td>\n",
              "      <td>0</td>\n",
              "    </tr>\n",
              "  </tbody>\n",
              "</table>\n",
              "</div>"
            ],
            "text/plain": [
              "   step      type    amount     nameOrig  oldbalanceOrg  newbalanceOrig  \\\n",
              "0     1   PAYMENT   9839.64  C1231006815       170136.0       160296.36   \n",
              "1     1   PAYMENT   1864.28  C1666544295        21249.0        19384.72   \n",
              "2     1  TRANSFER    181.00  C1305486145          181.0            0.00   \n",
              "3     1  CASH_OUT    181.00   C840083671          181.0            0.00   \n",
              "4     1   PAYMENT  11668.14  C2048537720        41554.0        29885.86   \n",
              "\n",
              "      nameDest  oldbalanceDest  newbalanceDest  isFraud  isFlaggedFraud  \n",
              "0  M1979787155             0.0             0.0        0               0  \n",
              "1  M2044282225             0.0             0.0        0               0  \n",
              "2   C553264065             0.0             0.0        1               0  \n",
              "3    C38997010         21182.0             0.0        1               0  \n",
              "4  M1230701703             0.0             0.0        0               0  "
            ]
          },
          "execution_count": 2,
          "metadata": {},
          "output_type": "execute_result"
        }
      ],
      "source": [
        "df = pd.read_csv('C:/Users/ASUS/Desktop/PS_20174392719_1491204439457_log.csv')\n",
        "df.head()"
      ]
    },
    {
      "cell_type": "code",
      "execution_count": null,
      "id": "furnished-given",
      "metadata": {
        "id": "furnished-given"
      },
      "outputs": [],
      "source": [
        ">>> import math\n",
        ">>> import statistics\n",
        ">>> import numpy as np\n",
        ">>> import scipy.stats\n",
        ">>> import pandas as pd"
      ]
    },
    {
      "cell_type": "code",
      "execution_count": null,
      "id": "incorporated-compilation",
      "metadata": {
        "id": "incorporated-compilation",
        "outputId": "e21bde62-c694-4103-d85c-a6b0bf15bec7"
      },
      "outputs": [
        {
          "data": {
            "text/plain": [
              "step                int64\n",
              "type               object\n",
              "amount            float64\n",
              "nameOrig           object\n",
              "oldbalanceOrg     float64\n",
              "newbalanceOrig    float64\n",
              "nameDest           object\n",
              "oldbalanceDest    float64\n",
              "newbalanceDest    float64\n",
              "isFraud             int64\n",
              "isFlaggedFraud      int64\n",
              "dtype: object"
            ]
          },
          "execution_count": 4,
          "metadata": {},
          "output_type": "execute_result"
        }
      ],
      "source": [
        "df.dtypes"
      ]
    },
    {
      "cell_type": "code",
      "execution_count": null,
      "id": "reliable-township",
      "metadata": {
        "id": "reliable-township",
        "outputId": "32d8fcc4-7372-4d33-e092-028e0f3a6a86"
      },
      "outputs": [
        {
          "data": {
            "text/plain": [
              "(6362620, 11)"
            ]
          },
          "execution_count": 5,
          "metadata": {},
          "output_type": "execute_result"
        }
      ],
      "source": [
        "df.shape"
      ]
    },
    {
      "cell_type": "code",
      "execution_count": null,
      "id": "bronze-brain",
      "metadata": {
        "id": "bronze-brain",
        "outputId": "14dcdffb-e77b-430b-ac24-1759367ebd4c"
      },
      "outputs": [
        {
          "data": {
            "text/plain": [
              "step              0\n",
              "type              0\n",
              "amount            0\n",
              "nameOrig          0\n",
              "oldbalanceOrg     0\n",
              "newbalanceOrig    0\n",
              "nameDest          0\n",
              "oldbalanceDest    0\n",
              "newbalanceDest    0\n",
              "isFraud           0\n",
              "isFlaggedFraud    0\n",
              "dtype: int64"
            ]
          },
          "execution_count": 6,
          "metadata": {},
          "output_type": "execute_result"
        }
      ],
      "source": [
        "df.isnull().sum()"
      ]
    },
    {
      "cell_type": "code",
      "execution_count": null,
      "id": "changing-bosnia",
      "metadata": {
        "id": "changing-bosnia",
        "outputId": "b0cd8b07-3902-481f-e795-52660731b690"
      },
      "outputs": [
        {
          "data": {
            "text/html": [
              "<div>\n",
              "<style scoped>\n",
              "    .dataframe tbody tr th:only-of-type {\n",
              "        vertical-align: middle;\n",
              "    }\n",
              "\n",
              "    .dataframe tbody tr th {\n",
              "        vertical-align: top;\n",
              "    }\n",
              "\n",
              "    .dataframe thead th {\n",
              "        text-align: right;\n",
              "    }\n",
              "</style>\n",
              "<table border=\"1\" class=\"dataframe\">\n",
              "  <thead>\n",
              "    <tr style=\"text-align: right;\">\n",
              "      <th></th>\n",
              "      <th>step</th>\n",
              "      <th>amount</th>\n",
              "      <th>oldbalanceOrg</th>\n",
              "      <th>newbalanceOrig</th>\n",
              "      <th>oldbalanceDest</th>\n",
              "      <th>newbalanceDest</th>\n",
              "      <th>isFraud</th>\n",
              "      <th>isFlaggedFraud</th>\n",
              "    </tr>\n",
              "  </thead>\n",
              "  <tbody>\n",
              "    <tr>\n",
              "      <th>count</th>\n",
              "      <td>6.362620e+06</td>\n",
              "      <td>6.362620e+06</td>\n",
              "      <td>6.362620e+06</td>\n",
              "      <td>6.362620e+06</td>\n",
              "      <td>6.362620e+06</td>\n",
              "      <td>6.362620e+06</td>\n",
              "      <td>6.362620e+06</td>\n",
              "      <td>6.362620e+06</td>\n",
              "    </tr>\n",
              "    <tr>\n",
              "      <th>mean</th>\n",
              "      <td>2.433972e+02</td>\n",
              "      <td>1.798619e+05</td>\n",
              "      <td>8.338831e+05</td>\n",
              "      <td>8.551137e+05</td>\n",
              "      <td>1.100702e+06</td>\n",
              "      <td>1.224996e+06</td>\n",
              "      <td>1.290820e-03</td>\n",
              "      <td>2.514687e-06</td>\n",
              "    </tr>\n",
              "    <tr>\n",
              "      <th>std</th>\n",
              "      <td>1.423320e+02</td>\n",
              "      <td>6.038582e+05</td>\n",
              "      <td>2.888243e+06</td>\n",
              "      <td>2.924049e+06</td>\n",
              "      <td>3.399180e+06</td>\n",
              "      <td>3.674129e+06</td>\n",
              "      <td>3.590480e-02</td>\n",
              "      <td>1.585775e-03</td>\n",
              "    </tr>\n",
              "    <tr>\n",
              "      <th>min</th>\n",
              "      <td>1.000000e+00</td>\n",
              "      <td>0.000000e+00</td>\n",
              "      <td>0.000000e+00</td>\n",
              "      <td>0.000000e+00</td>\n",
              "      <td>0.000000e+00</td>\n",
              "      <td>0.000000e+00</td>\n",
              "      <td>0.000000e+00</td>\n",
              "      <td>0.000000e+00</td>\n",
              "    </tr>\n",
              "    <tr>\n",
              "      <th>25%</th>\n",
              "      <td>1.560000e+02</td>\n",
              "      <td>1.338957e+04</td>\n",
              "      <td>0.000000e+00</td>\n",
              "      <td>0.000000e+00</td>\n",
              "      <td>0.000000e+00</td>\n",
              "      <td>0.000000e+00</td>\n",
              "      <td>0.000000e+00</td>\n",
              "      <td>0.000000e+00</td>\n",
              "    </tr>\n",
              "    <tr>\n",
              "      <th>50%</th>\n",
              "      <td>2.390000e+02</td>\n",
              "      <td>7.487194e+04</td>\n",
              "      <td>1.420800e+04</td>\n",
              "      <td>0.000000e+00</td>\n",
              "      <td>1.327057e+05</td>\n",
              "      <td>2.146614e+05</td>\n",
              "      <td>0.000000e+00</td>\n",
              "      <td>0.000000e+00</td>\n",
              "    </tr>\n",
              "    <tr>\n",
              "      <th>75%</th>\n",
              "      <td>3.350000e+02</td>\n",
              "      <td>2.087215e+05</td>\n",
              "      <td>1.073152e+05</td>\n",
              "      <td>1.442584e+05</td>\n",
              "      <td>9.430367e+05</td>\n",
              "      <td>1.111909e+06</td>\n",
              "      <td>0.000000e+00</td>\n",
              "      <td>0.000000e+00</td>\n",
              "    </tr>\n",
              "    <tr>\n",
              "      <th>max</th>\n",
              "      <td>7.430000e+02</td>\n",
              "      <td>9.244552e+07</td>\n",
              "      <td>5.958504e+07</td>\n",
              "      <td>4.958504e+07</td>\n",
              "      <td>3.560159e+08</td>\n",
              "      <td>3.561793e+08</td>\n",
              "      <td>1.000000e+00</td>\n",
              "      <td>1.000000e+00</td>\n",
              "    </tr>\n",
              "  </tbody>\n",
              "</table>\n",
              "</div>"
            ],
            "text/plain": [
              "               step        amount  oldbalanceOrg  newbalanceOrig  \\\n",
              "count  6.362620e+06  6.362620e+06   6.362620e+06    6.362620e+06   \n",
              "mean   2.433972e+02  1.798619e+05   8.338831e+05    8.551137e+05   \n",
              "std    1.423320e+02  6.038582e+05   2.888243e+06    2.924049e+06   \n",
              "min    1.000000e+00  0.000000e+00   0.000000e+00    0.000000e+00   \n",
              "25%    1.560000e+02  1.338957e+04   0.000000e+00    0.000000e+00   \n",
              "50%    2.390000e+02  7.487194e+04   1.420800e+04    0.000000e+00   \n",
              "75%    3.350000e+02  2.087215e+05   1.073152e+05    1.442584e+05   \n",
              "max    7.430000e+02  9.244552e+07   5.958504e+07    4.958504e+07   \n",
              "\n",
              "       oldbalanceDest  newbalanceDest       isFraud  isFlaggedFraud  \n",
              "count    6.362620e+06    6.362620e+06  6.362620e+06    6.362620e+06  \n",
              "mean     1.100702e+06    1.224996e+06  1.290820e-03    2.514687e-06  \n",
              "std      3.399180e+06    3.674129e+06  3.590480e-02    1.585775e-03  \n",
              "min      0.000000e+00    0.000000e+00  0.000000e+00    0.000000e+00  \n",
              "25%      0.000000e+00    0.000000e+00  0.000000e+00    0.000000e+00  \n",
              "50%      1.327057e+05    2.146614e+05  0.000000e+00    0.000000e+00  \n",
              "75%      9.430367e+05    1.111909e+06  0.000000e+00    0.000000e+00  \n",
              "max      3.560159e+08    3.561793e+08  1.000000e+00    1.000000e+00  "
            ]
          },
          "execution_count": 7,
          "metadata": {},
          "output_type": "execute_result"
        }
      ],
      "source": [
        "df.describe()"
      ]
    },
    {
      "cell_type": "code",
      "execution_count": null,
      "id": "higher-average",
      "metadata": {
        "id": "higher-average",
        "outputId": "a76aed2d-699c-4481-baae-04c9ca59d038"
      },
      "outputs": [
        {
          "name": "stdout",
          "output_type": "stream",
          "text": [
            "Total number of unique customers are 6353307\n",
            "Total number of unique customers are 2722362\n",
            "Average no. of transactions per customer are 1.0014658507766112\n",
            "Average no. of transactions per recipient are 2.337168973119666\n"
          ]
        }
      ],
      "source": [
        "#Total number of unique customers\n",
        "print(f\"Total number of unique customers are {df.nameOrig.nunique()}\")\n",
        "print(f\"Total number of unique customers are {df.nameDest.nunique()}\")\n",
        "print(f\"Average no. of transactions per customer are {df.shape[0]/df.nameOrig.nunique()}\")\n",
        "print(f\"Average no. of transactions per recipient are {df.shape[0]/df.nameDest.nunique()}\")"
      ]
    },
    {
      "cell_type": "code",
      "execution_count": null,
      "id": "reliable-juice",
      "metadata": {
        "id": "reliable-juice",
        "outputId": "cd363cf7-b186-4fb0-f181-f90e7f0100b4"
      },
      "outputs": [
        {
          "name": "stdout",
          "output_type": "stream",
          "text": [
            "No Frauds 99.87 % of the dataset\n",
            "Frauds 0.13 % of the dataset\n"
          ]
        }
      ],
      "source": [
        "# Data Skewness\n",
        "print('No Frauds', round(df['isFraud'].value_counts()[0]/len(df) * 100,2), '% of the dataset')\n",
        "print('Frauds', round(df['isFraud'].value_counts()[1]/len(df) * 100,2), '% of the dataset')"
      ]
    },
    {
      "cell_type": "code",
      "execution_count": null,
      "id": "systematic-uruguay",
      "metadata": {
        "id": "systematic-uruguay",
        "outputId": "e45e31c3-e2c3-4cc9-d1fc-05c38b4daa7d"
      },
      "outputs": [
        {
          "name": "stderr",
          "output_type": "stream",
          "text": [
            "c:\\users\\asus\\appdata\\local\\programs\\python\\python39\\lib\\site-packages\\seaborn\\distributions.py:2557: FutureWarning: `distplot` is a deprecated function and will be removed in a future version. Please adapt your code to use either `displot` (a figure-level function with similar flexibility) or `histplot` (an axes-level function for histograms).\n",
            "  warnings.warn(msg, FutureWarning)\n"
          ]
        },
        {
          "data": {
            "text/plain": [
              "<AxesSubplot:xlabel='isFraud', ylabel='Density'>"
            ]
          },
          "execution_count": 10,
          "metadata": {},
          "output_type": "execute_result"
        },
        {
          "data": {
            "image/png": "[encoded data removed]",
            "text/plain": [
              "<Figure size 432x288 with 1 Axes>"
            ]
          },
          "metadata": {
            "needs_background": "light"
          },
          "output_type": "display_data"
        }
      ],
      "source": [
        "sns.distplot(df['isFraud'].dropna() )"
      ]
    },
    {
      "cell_type": "code",
      "execution_count": null,
      "id": "velvet-orbit",
      "metadata": {
        "id": "velvet-orbit",
        "outputId": "4620b70d-7ae4-460f-df4a-17e336a3edde"
      },
      "outputs": [
        {
          "name": "stdout",
          "output_type": "stream",
          "text": [
            "0    6354407\n",
            "1       8213\n",
            "Name: isFraud, dtype: int64\n"
          ]
        },
        {
          "data": {
            "image/png": "[encoded data removed]",
            "text/plain": [
              "<Figure size 432x288 with 1 Axes>"
            ]
          },
          "metadata": {
            "needs_background": "light"
          },
          "output_type": "display_data"
        }
      ],
      "source": [
        "print(df.isFraud.value_counts())\n",
        "sns.countplot(y=\"isFraud\",data=df)\n",
        "plt.show()"
      ]
    },
    {
      "cell_type": "markdown",
      "id": "architectural-providence",
      "metadata": {
        "id": "architectural-providence"
      },
      "source": [
        "# Data Plotting"
      ]
    },
    {
      "cell_type": "code",
      "execution_count": null,
      "id": "signed-ontario",
      "metadata": {
        "id": "signed-ontario",
        "outputId": "16df0595-f154-461a-fc58-9e37b3a6795e"
      },
      "outputs": [
        {
          "data": {
            "text/plain": [
              "<AxesSubplot:ylabel='isFraud'>"
            ]
          },
          "execution_count": 12,
          "metadata": {},
          "output_type": "execute_result"
        },
        {
          "data": {
            "image/png": "[encoded data removed]",
            "text/plain": [
              "<Figure size 432x288 with 1 Axes>"
            ]
          },
          "metadata": {
            "needs_background": "light"
          },
          "output_type": "display_data"
        }
      ],
      "source": [
        "sns.barplot(x=df.type.unique(),y=df.groupby(\"type\")[\"isFraud\"].sum())"
      ]
    },
    {
      "cell_type": "code",
      "execution_count": null,
      "id": "encouraging-affiliation",
      "metadata": {
        "id": "encouraging-affiliation",
        "outputId": "fa025be3-bfbc-41bc-80b1-d39d6e9d4877"
      },
      "outputs": [
        {
          "data": {
            "image/png": "[encoded data removed]",
            "text/plain": [
              "<Figure size 432x288 with 1 Axes>"
            ]
          },
          "metadata": {
            "needs_background": "light"
          },
          "output_type": "display_data"
        }
      ],
      "source": [
        "sns.lineplot(x=list(range(1,744)),y=df.groupby(\"step\")[\"isFraud\"].sum())\n",
        "plt.xlabel(\"Hour of the month\")\n",
        "plt.ylabel(\"Number of transactions per hour\")\n",
        "plt.show()"
      ]
    },
    {
      "cell_type": "code",
      "execution_count": null,
      "id": "acceptable-transport",
      "metadata": {
        "id": "acceptable-transport",
        "outputId": "485ae406-c08d-408b-be0c-5102540f878a"
      },
      "outputs": [
        {
          "data": {
            "image/png": "[encoded data removed]",
            "text/plain": [
              "<Figure size 432x288 with 1 Axes>"
            ]
          },
          "metadata": {
            "needs_background": "light"
          },
          "output_type": "display_data"
        }
      ],
      "source": [
        "df[\"hour\"] = df.step % 24\n",
        "frauds_hour = pd.concat([df.groupby(\"hour\")[\"isFraud\"].sum(),df.groupby(\"hour\")[\"isFraud\"].count()],axis=1)\n",
        "frauds_hour.columns = [\"Frauds\",\"Transactions\"]\n",
        "frauds_hour[\"fraud_rate\"] = frauds_hour.Frauds/frauds_hour.Transactions\n",
        "sns.barplot(x=frauds_hour.index,y=frauds_hour.fraud_rate)\n",
        "plt.show()"
      ]
    },
    {
      "cell_type": "markdown",
      "id": "wound-convergence",
      "metadata": {
        "id": "wound-convergence"
      },
      "source": [
        "Hasil menunjukkan bahwa distribusi data jam transaksi dan tingkat fraud juga tidak seimbang, dimana ada outlier yang memengaruhi hasil rata-rata"
      ]
    },
    {
      "cell_type": "code",
      "execution_count": null,
      "id": "arranged-inflation",
      "metadata": {
        "id": "arranged-inflation",
        "outputId": "f12d08df-4bc5-468d-9269-90a4b5c3f8c9"
      },
      "outputs": [
        {
          "name": "stderr",
          "output_type": "stream",
          "text": [
            "<ipython-input-15-2fda1b657126>:6: UserWarning: Matplotlib is currently using module://ipykernel.pylab.backend_inline, which is a non-GUI backend, so cannot show the figure.\n",
            "  fig.show()\n"
          ]
        },
        {
          "data": {
            "image/png": "[encoded data removed]",
            "text/plain": [
              "<Figure size 1008x432 with 2 Axes>"
            ]
          },
          "metadata": {
            "needs_background": "light"
          },
          "output_type": "display_data"
        }
      ],
      "source": [
        "fig,ax=plt.subplots(1,2,figsize=(14,6))\n",
        "ax[0].title.set_text(\"Opening Recipient Balance - CASH OUT transactions\")\n",
        "ax[0].bar(x=[\"Non-Fraud\",\"Fraud\"],height=df[df.type==\"CASH_OUT\"].groupby(\"isFraud\")[\"oldbalanceDest\"].median())\n",
        "ax[1].title.set_text(\"Opening Recipient Balance - TRANSFER transactions\")\n",
        "ax[1].bar(x=[\"Non-Fraud\",\"Fraud\"],height=df[df.type==\"TRANSFER\"].groupby(\"isFraud\")[\"oldbalanceDest\"].median())\n",
        "fig.show()"
      ]
    },
    {
      "cell_type": "code",
      "execution_count": null,
      "id": "toxic-convergence",
      "metadata": {
        "id": "toxic-convergence",
        "outputId": "67f34a0c-2122-42a1-e0c0-ae211421a8df"
      },
      "outputs": [
        {
          "data": {
            "image/png": "[encoded data removed]",
            "text/plain": [
              "<Figure size 432x288 with 1 Axes>"
            ]
          },
          "metadata": {
            "needs_background": "light"
          },
          "output_type": "display_data"
        }
      ],
      "source": [
        "df[\"day\"] = round(df.step/24)\n",
        "sns.barplot(x=list(range(1,33)),y=df[df.isFraud==1].groupby(\"day\")[\"amount\"].sum())\n",
        "plt.xlabel(\"Day\")\n",
        "plt.ylabel(\"Total Fraud transaction amount\")\n",
        "plt.show()"
      ]
    },
    {
      "cell_type": "code",
      "execution_count": null,
      "id": "wicked-australian",
      "metadata": {
        "id": "wicked-australian",
        "outputId": "43834cc3-02f9-4118-e749-f4e1d9dcb567"
      },
      "outputs": [
        {
          "data": {
            "image/png": "[encoded data removed]",
            "text/plain": [
              "<Figure size 432x288 with 1 Axes>"
            ]
          },
          "metadata": {
            "needs_background": "light"
          },
          "output_type": "display_data"
        }
      ],
      "source": [
        "df[\"dayweek\"] = df.day % 7\n",
        "sns.barplot(x=list(range(1,8)),y=df[df.isFraud==1].groupby(\"dayweek\")[\"amount\"].mean())\n",
        "plt.xlabel(\"Day of the week\")\n",
        "plt.ylabel(\"Average Fraud transaction amount\")\n",
        "plt.show()"
      ]
    },
    {
      "cell_type": "markdown",
      "id": "spanish-chart",
      "metadata": {
        "id": "spanish-chart"
      },
      "source": [
        "## Data Cleaning"
      ]
    },
    {
      "cell_type": "code",
      "execution_count": null,
      "id": "valued-fraction",
      "metadata": {
        "id": "valued-fraction"
      },
      "outputs": [],
      "source": [
        "df1 = df.copy()"
      ]
    },
    {
      "cell_type": "code",
      "execution_count": null,
      "id": "tight-mortgage",
      "metadata": {
        "id": "tight-mortgage"
      },
      "outputs": [],
      "source": [
        "df1[\"hourday\"] = df1.step % 24\n",
        "df1[\"hourweek\"] = df1.step % (24*7)\n",
        "df1[\"day\"] = round(df1.step/24)\n",
        "df1[\"dayweek\"] = df1.day % 7\n",
        "df1[\"daymonth\"] = df1.day % 30"
      ]
    },
    {
      "cell_type": "code",
      "execution_count": null,
      "id": "broken-seventh",
      "metadata": {
        "id": "broken-seventh",
        "outputId": "fbbc31ec-7ec6-4386-d25f-9b7eb9474ff5"
      },
      "outputs": [
        {
          "data": {
            "text/html": [
              "<div>\n",
              "<style scoped>\n",
              "    .dataframe tbody tr th:only-of-type {\n",
              "        vertical-align: middle;\n",
              "    }\n",
              "\n",
              "    .dataframe tbody tr th {\n",
              "        vertical-align: top;\n",
              "    }\n",
              "\n",
              "    .dataframe thead th {\n",
              "        text-align: right;\n",
              "    }\n",
              "</style>\n",
              "<table border=\"1\" class=\"dataframe\">\n",
              "  <thead>\n",
              "    <tr style=\"text-align: right;\">\n",
              "      <th></th>\n",
              "      <th>step</th>\n",
              "      <th>amount</th>\n",
              "      <th>nameOrig</th>\n",
              "      <th>oldbalanceOrg</th>\n",
              "      <th>newbalanceOrig</th>\n",
              "      <th>nameDest</th>\n",
              "      <th>oldbalanceDest</th>\n",
              "      <th>newbalanceDest</th>\n",
              "      <th>isFraud</th>\n",
              "      <th>isFlaggedFraud</th>\n",
              "      <th>hour</th>\n",
              "      <th>day</th>\n",
              "      <th>dayweek</th>\n",
              "      <th>hourday</th>\n",
              "      <th>hourweek</th>\n",
              "      <th>daymonth</th>\n",
              "      <th>type_CASH_IN</th>\n",
              "      <th>type_CASH_OUT</th>\n",
              "      <th>type_DEBIT</th>\n",
              "      <th>type_PAYMENT</th>\n",
              "      <th>type_TRANSFER</th>\n",
              "    </tr>\n",
              "  </thead>\n",
              "  <tbody>\n",
              "    <tr>\n",
              "      <th>0</th>\n",
              "      <td>1</td>\n",
              "      <td>9839.64</td>\n",
              "      <td>C1231006815</td>\n",
              "      <td>170136.0</td>\n",
              "      <td>160296.36</td>\n",
              "      <td>M1979787155</td>\n",
              "      <td>0.0</td>\n",
              "      <td>0.0</td>\n",
              "      <td>0</td>\n",
              "      <td>0</td>\n",
              "      <td>1</td>\n",
              "      <td>0.0</td>\n",
              "      <td>0.0</td>\n",
              "      <td>1</td>\n",
              "      <td>1</td>\n",
              "      <td>0.0</td>\n",
              "      <td>0</td>\n",
              "      <td>0</td>\n",
              "      <td>0</td>\n",
              "      <td>1</td>\n",
              "      <td>0</td>\n",
              "    </tr>\n",
              "    <tr>\n",
              "      <th>1</th>\n",
              "      <td>1</td>\n",
              "      <td>1864.28</td>\n",
              "      <td>C1666544295</td>\n",
              "      <td>21249.0</td>\n",
              "      <td>19384.72</td>\n",
              "      <td>M2044282225</td>\n",
              "      <td>0.0</td>\n",
              "      <td>0.0</td>\n",
              "      <td>0</td>\n",
              "      <td>0</td>\n",
              "      <td>1</td>\n",
              "      <td>0.0</td>\n",
              "      <td>0.0</td>\n",
              "      <td>1</td>\n",
              "      <td>1</td>\n",
              "      <td>0.0</td>\n",
              "      <td>0</td>\n",
              "      <td>0</td>\n",
              "      <td>0</td>\n",
              "      <td>1</td>\n",
              "      <td>0</td>\n",
              "    </tr>\n",
              "    <tr>\n",
              "      <th>2</th>\n",
              "      <td>1</td>\n",
              "      <td>181.00</td>\n",
              "      <td>C1305486145</td>\n",
              "      <td>181.0</td>\n",
              "      <td>0.00</td>\n",
              "      <td>C553264065</td>\n",
              "      <td>0.0</td>\n",
              "      <td>0.0</td>\n",
              "      <td>1</td>\n",
              "      <td>0</td>\n",
              "      <td>1</td>\n",
              "      <td>0.0</td>\n",
              "      <td>0.0</td>\n",
              "      <td>1</td>\n",
              "      <td>1</td>\n",
              "      <td>0.0</td>\n",
              "      <td>0</td>\n",
              "      <td>0</td>\n",
              "      <td>0</td>\n",
              "      <td>0</td>\n",
              "      <td>1</td>\n",
              "    </tr>\n",
              "    <tr>\n",
              "      <th>3</th>\n",
              "      <td>1</td>\n",
              "      <td>181.00</td>\n",
              "      <td>C840083671</td>\n",
              "      <td>181.0</td>\n",
              "      <td>0.00</td>\n",
              "      <td>C38997010</td>\n",
              "      <td>21182.0</td>\n",
              "      <td>0.0</td>\n",
              "      <td>1</td>\n",
              "      <td>0</td>\n",
              "      <td>1</td>\n",
              "      <td>0.0</td>\n",
              "      <td>0.0</td>\n",
              "      <td>1</td>\n",
              "      <td>1</td>\n",
              "      <td>0.0</td>\n",
              "      <td>0</td>\n",
              "      <td>1</td>\n",
              "      <td>0</td>\n",
              "      <td>0</td>\n",
              "      <td>0</td>\n",
              "    </tr>\n",
              "    <tr>\n",
              "      <th>4</th>\n",
              "      <td>1</td>\n",
              "      <td>11668.14</td>\n",
              "      <td>C2048537720</td>\n",
              "      <td>41554.0</td>\n",
              "      <td>29885.86</td>\n",
              "      <td>M1230701703</td>\n",
              "      <td>0.0</td>\n",
              "      <td>0.0</td>\n",
              "      <td>0</td>\n",
              "      <td>0</td>\n",
              "      <td>1</td>\n",
              "      <td>0.0</td>\n",
              "      <td>0.0</td>\n",
              "      <td>1</td>\n",
              "      <td>1</td>\n",
              "      <td>0.0</td>\n",
              "      <td>0</td>\n",
              "      <td>0</td>\n",
              "      <td>0</td>\n",
              "      <td>1</td>\n",
              "      <td>0</td>\n",
              "    </tr>\n",
              "  </tbody>\n",
              "</table>\n",
              "</div>"
            ],
            "text/plain": [
              "   step    amount     nameOrig  oldbalanceOrg  newbalanceOrig     nameDest  \\\n",
              "0     1   9839.64  C1231006815       170136.0       160296.36  M1979787155   \n",
              "1     1   1864.28  C1666544295        21249.0        19384.72  M2044282225   \n",
              "2     1    181.00  C1305486145          181.0            0.00   C553264065   \n",
              "3     1    181.00   C840083671          181.0            0.00    C38997010   \n",
              "4     1  11668.14  C2048537720        41554.0        29885.86  M1230701703   \n",
              "\n",
              "   oldbalanceDest  newbalanceDest  isFraud  isFlaggedFraud  hour  day  \\\n",
              "0             0.0             0.0        0               0     1  0.0   \n",
              "1             0.0             0.0        0               0     1  0.0   \n",
              "2             0.0             0.0        1               0     1  0.0   \n",
              "3         21182.0             0.0        1               0     1  0.0   \n",
              "4             0.0             0.0        0               0     1  0.0   \n",
              "\n",
              "   dayweek  hourday  hourweek  daymonth  type_CASH_IN  type_CASH_OUT  \\\n",
              "0      0.0        1         1       0.0             0              0   \n",
              "1      0.0        1         1       0.0             0              0   \n",
              "2      0.0        1         1       0.0             0              0   \n",
              "3      0.0        1         1       0.0             0              1   \n",
              "4      0.0        1         1       0.0             0              0   \n",
              "\n",
              "   type_DEBIT  type_PAYMENT  type_TRANSFER  \n",
              "0           0             1              0  \n",
              "1           0             1              0  \n",
              "2           0             0              1  \n",
              "3           0             0              0  \n",
              "4           0             1              0  "
            ]
          },
          "execution_count": 20,
          "metadata": {},
          "output_type": "execute_result"
        }
      ],
      "source": [
        "df1 = pd.get_dummies(df1,columns=[\"type\"])\n",
        "df1.head()"
      ]
    },
    {
      "cell_type": "code",
      "execution_count": null,
      "id": "resident-guinea",
      "metadata": {
        "id": "resident-guinea"
      },
      "outputs": [],
      "source": [
        "df1[\"logamount\"] = np.log1p(df1[\"amount\"])\n",
        "df1[\"logoldbalanceOrg\"] = np.log1p(df1[\"oldbalanceOrg\"])\n",
        "df1[\"lognewbalanceOrig\"] = np.log1p(df1[\"newbalanceOrig\"])\n",
        "df1[\"logoldbalanceDest\"] = np.log1p(df1[\"oldbalanceDest\"])\n",
        "df1[\"lognewbalanceDest\"] = np.log1p(df1[\"newbalanceDest\"])\n",
        "df1[\"custdiff\"] = df1[\"oldbalanceOrg\"] - df1[\"newbalanceOrig\"]\n",
        "df1[\"destdiff\"] = df1[\"oldbalanceDest\"] - df1[\"newbalanceDest\"]\n",
        "df1[\"custind\"] = np.where(df1[\"oldbalanceOrg\"] - df1[\"newbalanceOrig\"] == df1.amount,1,0)\n",
        "df1[\"destind\"] = np.where(df1[\"oldbalanceDest\"] - df1[\"newbalanceDest\"] == df1.amount,1,0)\n",
        "df1[\"custrto\"] = df1.oldbalanceOrg/(df1.newbalanceOrig+1)\n",
        "df1[\"destrto\"] = df1.oldbalanceDest/(df1.newbalanceDest+1)\n",
        "df1[\"custdestrto1\"] = df1.oldbalanceOrg/(df1.oldbalanceDest+1)\n",
        "df1[\"custdestrto2\"] = df1.newbalanceOrig/(df1.newbalanceDest+1)\n",
        "df1[\"custamountrto\"] = df1.oldbalanceOrg/(df1.amount+1)\n",
        "df1[\"destamountrto\"] = df1.oldbalanceDest/(df1.amount+1)"
      ]
    },
    {
      "cell_type": "code",
      "execution_count": null,
      "id": "activated-daisy",
      "metadata": {
        "id": "activated-daisy"
      },
      "outputs": [],
      "source": [
        "df1 = df1.drop([\"isFlaggedFraud\",\"nameOrig\",\"nameDest\"],axis=1)"
      ]
    },
    {
      "cell_type": "code",
      "execution_count": null,
      "id": "reliable-antibody",
      "metadata": {
        "id": "reliable-antibody",
        "outputId": "9fb2b9ad-7f1a-487e-d1c0-290720f02dd6"
      },
      "outputs": [
        {
          "name": "stdout",
          "output_type": "stream",
          "text": [
            "(3117683, 32)\n",
            "(1336151, 32)\n",
            "(3117683,)\n",
            "(1336151,)\n"
          ]
        }
      ],
      "source": [
        "from sklearn.model_selection import GridSearchCV,train_test_split\n",
        "\n",
        "X1,X2,y1,y2 = train_test_split(df1.drop(\"isFraud\",axis=1),df1[\"isFraud\"],test_size=0.3,random_state=1234,stratify = df1[\"isFraud\"])\n",
        "X_train,X_test,y_train,y_test = train_test_split(X1,y1,test_size=0.3,random_state=1234,stratify = y1)\n",
        "print(X_train.shape)\n",
        "print(X_test.shape)\n",
        "print(y_train.shape)\n",
        "print(y_test.shape)"
      ]
    },
    {
      "cell_type": "markdown",
      "id": "clean-sympathy",
      "metadata": {
        "id": "clean-sympathy"
      },
      "source": [
        "# Model Fitting"
      ]
    },
    {
      "cell_type": "code",
      "execution_count": null,
      "id": "lined-booking",
      "metadata": {
        "id": "lined-booking"
      },
      "outputs": [],
      "source": [
        "from imblearn.pipeline import Pipeline as pl2\n",
        "from sklearn.preprocessing import StandardScaler\n",
        "from imblearn.under_sampling import RandomUnderSampler"
      ]
    },
    {
      "cell_type": "markdown",
      "id": "convenient-recognition",
      "metadata": {
        "id": "convenient-recognition"
      },
      "source": [
        "# Logistic Regression"
      ]
    },
    {
      "cell_type": "code",
      "execution_count": null,
      "id": "enabling-panama",
      "metadata": {
        "id": "enabling-panama",
        "outputId": "7fd4de8b-16ce-4e1a-cb11-379317d8e055"
      },
      "outputs": [
        {
          "data": {
            "text/plain": [
              "Pipeline(steps=[('stdize', StandardScaler()),\n",
              "                ('sampler',\n",
              "                 RandomUnderSampler(random_state=1234,\n",
              "                                    sampling_strategy='majority')),\n",
              "                ('clf', LogisticRegression(max_iter=1000000))])"
            ]
          },
          "execution_count": 25,
          "metadata": {},
          "output_type": "execute_result"
        }
      ],
      "source": [
        "from sklearn.linear_model import LogisticRegression\n",
        "\n",
        "logreg = pl2([\n",
        "    ('stdize',StandardScaler()),\n",
        "    ('sampler',RandomUnderSampler(random_state=1234,sampling_strategy='majority')),\n",
        "    ('clf',LogisticRegression(max_iter=1000000))\n",
        "    ])\n",
        "logreg.fit(X_train,y_train)"
      ]
    },
    {
      "cell_type": "code",
      "execution_count": null,
      "id": "featured-approach",
      "metadata": {
        "id": "featured-approach"
      },
      "outputs": [],
      "source": [
        "from sklearn.linear_model import LogisticRegression\n",
        "from sklearn.model_selection import cross_val_score\n",
        "from sklearn import metrics\n",
        "\n",
        "log_reg= LogisticRegression()"
      ]
    },
    {
      "cell_type": "markdown",
      "id": "enclosed-riverside",
      "metadata": {
        "id": "enclosed-riverside"
      },
      "source": [
        "**confusion matrix test for accuracy**"
      ]
    },
    {
      "cell_type": "code",
      "execution_count": null,
      "id": "prescription-example",
      "metadata": {
        "id": "prescription-example"
      },
      "outputs": [],
      "source": [
        "from sklearn.metrics import confusion_matrix"
      ]
    },
    {
      "cell_type": "code",
      "execution_count": null,
      "id": "competent-young",
      "metadata": {
        "id": "competent-young"
      },
      "outputs": [],
      "source": [
        "logreg.fit(X_train,y_train)\n",
        "y_pred_test = logreg.predict(X_test)"
      ]
    },
    {
      "cell_type": "code",
      "execution_count": null,
      "id": "purple-inspiration",
      "metadata": {
        "id": "purple-inspiration"
      },
      "outputs": [],
      "source": [
        "def draw_cm( actual, predicted ):\n",
        "    cm = confusion_matrix( actual, predicted, [1,0] )\n",
        "    sns.heatmap(cm, annot=True,  fmt='.0f', xticklabels = [\"1\", \"0\"] , \n",
        "                yticklabels = [\"1\", \"0\"] )\n",
        "    plt.ylabel('ACTUAL')\n",
        "    plt.xlabel('PREDICTED')\n",
        "    plt.show()"
      ]
    },
    {
      "cell_type": "code",
      "execution_count": null,
      "id": "otherwise-pizza",
      "metadata": {
        "id": "otherwise-pizza",
        "outputId": "b3e811b2-8297-4dd8-d856-22c42a3b43ab"
      },
      "outputs": [
        {
          "data": {
            "text/plain": [
              "0.9993615991007004"
            ]
          },
          "execution_count": 30,
          "metadata": {},
          "output_type": "execute_result"
        }
      ],
      "source": [
        "from sklearn.metrics import accuracy_score\n",
        "accuracy_score(y_test, y_pred_test)"
      ]
    },
    {
      "cell_type": "code",
      "execution_count": null,
      "id": "current-concentration",
      "metadata": {
        "id": "current-concentration",
        "outputId": "47c31177-7679-4d2b-86e0-4614dc22ff60"
      },
      "outputs": [
        {
          "name": "stderr",
          "output_type": "stream",
          "text": [
            "c:\\users\\asus\\appdata\\local\\programs\\python\\python39\\lib\\site-packages\\sklearn\\utils\\validation.py:70: FutureWarning: Pass labels=[1, 0] as keyword args. From version 1.0 (renaming of 0.25) passing these as positional arguments will result in an error\n",
            "  warnings.warn(f\"Pass {args_msg} as keyword args. From version \"\n"
          ]
        },
        {
          "data": {
            "image/png": "[encoded data removed]",
            "text/plain": [
              "<Figure size 432x288 with 2 Axes>"
            ]
          },
          "metadata": {
            "needs_background": "light"
          },
          "output_type": "display_data"
        }
      ],
      "source": [
        "draw_cm( y_test, y_pred_test)"
      ]
    },
    {
      "cell_type": "code",
      "execution_count": null,
      "id": "fifth-enzyme",
      "metadata": {
        "id": "fifth-enzyme"
      },
      "outputs": [],
      "source": [
        "import matplotlib.pyplot as plt\n",
        "import seaborn as sns\n",
        "from sklearn import metrics"
      ]
    },
    {
      "cell_type": "code",
      "execution_count": null,
      "id": "brown-david",
      "metadata": {
        "id": "brown-david",
        "outputId": "c8da3ca6-a8e3-4350-e331-c1e37de7d152"
      },
      "outputs": [
        {
          "name": "stdout",
          "output_type": "stream",
          "text": [
            "[[1333578     848]\n",
            " [      5    1720]]\n"
          ]
        }
      ],
      "source": [
        "cm = metrics.confusion_matrix(y_test, y_pred_test)\n",
        "print(cm)"
      ]
    },
    {
      "cell_type": "code",
      "execution_count": null,
      "id": "ordered-convergence",
      "metadata": {
        "id": "ordered-convergence",
        "outputId": "ef6e4a72-c402-4a20-cec1-0e0d9e2c2218"
      },
      "outputs": [
        {
          "name": "stdout",
          "output_type": "stream",
          "text": [
            "0.9993615991007004\n"
          ]
        }
      ],
      "source": [
        "# Use score method to get accuracy of model\n",
        "score = logreg.score(X_test, y_test)\n",
        "print(score)"
      ]
    },
    {
      "cell_type": "code",
      "execution_count": null,
      "id": "tribal-credit",
      "metadata": {
        "id": "tribal-credit",
        "outputId": "670dbe8f-c58d-4252-c0ae-f3c727190485"
      },
      "outputs": [
        {
          "data": {
            "image/png": "[encoded data removed]",
            "text/plain": [
              "<Figure size 648x648 with 2 Axes>"
            ]
          },
          "metadata": {
            "needs_background": "light"
          },
          "output_type": "display_data"
        }
      ],
      "source": [
        "plt.figure(figsize=(9,9))\n",
        "sns.heatmap(cm, annot=True, fmt=\".3f\", linewidths=.5, square = True, cmap = 'Blues_r');\n",
        "plt.ylabel('Actual label');\n",
        "plt.xlabel('Predicted label');\n",
        "all_sample_title = 'Accuracy Score: {0}'.format(score)\n",
        "plt.title(all_sample_title, size = 15);"
      ]
    },
    {
      "cell_type": "markdown",
      "id": "approved-switzerland",
      "metadata": {
        "id": "approved-switzerland"
      },
      "source": [
        " # Random Forest"
      ]
    },
    {
      "cell_type": "code",
      "execution_count": null,
      "id": "polar-sydney",
      "metadata": {
        "id": "polar-sydney",
        "outputId": "285ec22c-24fe-4b2e-a2f3-5e98801b1431"
      },
      "outputs": [
        {
          "data": {
            "text/plain": [
              "Pipeline(steps=[('sampler',\n",
              "                 RandomUnderSampler(random_state=1234,\n",
              "                                    sampling_strategy='majority')),\n",
              "                ('clf',\n",
              "                 RandomForestClassifier(max_depth=2, max_features='sqrt',\n",
              "                                        random_state=0))])"
            ]
          },
          "execution_count": 36,
          "metadata": {},
          "output_type": "execute_result"
        }
      ],
      "source": [
        "from sklearn.ensemble import RandomForestClassifier\n",
        "from sklearn.datasets import make_classification\n",
        "\n",
        "\n",
        "RF = pl2([\n",
        "    ('sampler',RandomUnderSampler(random_state=1234,sampling_strategy='majority')),\n",
        "    ('clf',RandomForestClassifier(max_features='sqrt', max_depth=2, random_state=0)\n",
        " \n",
        "    )])\n",
        "RF.fit(X_train,y_train)"
      ]
    },
    {
      "cell_type": "code",
      "execution_count": null,
      "id": "metric-lindsay",
      "metadata": {
        "id": "metric-lindsay"
      },
      "outputs": [],
      "source": [
        "parameters = {'clf__n_estimators':[300,500],\n",
        "              'clf__max_depth':[2]}"
      ]
    },
    {
      "cell_type": "markdown",
      "id": "expected-nursery",
      "metadata": {
        "id": "expected-nursery"
      },
      "source": [
        "**confusion matrix test for accuracy**"
      ]
    },
    {
      "cell_type": "code",
      "execution_count": null,
      "id": "demanding-dylan",
      "metadata": {
        "id": "demanding-dylan"
      },
      "outputs": [],
      "source": [
        "RF.fit(X_train,y_train)\n",
        "RF_y_pred_test = RF.predict(X_test)"
      ]
    },
    {
      "cell_type": "code",
      "execution_count": null,
      "id": "oriental-revelation",
      "metadata": {
        "id": "oriental-revelation"
      },
      "outputs": [],
      "source": [
        "def draw_cm( actual, predicted ):\n",
        "    cm = confusion_matrix( actual, predicted, [1,0] )\n",
        "    sns.heatmap(cm, annot=True,  fmt='.0f', xticklabels = [\"1\", \"0\"] , \n",
        "                yticklabels = [\"1\", \"0\"] )\n",
        "    plt.ylabel('ACTUAL')\n",
        "    plt.xlabel('PREDICTED')\n",
        "    plt.show()"
      ]
    },
    {
      "cell_type": "code",
      "execution_count": null,
      "id": "finished-alliance",
      "metadata": {
        "id": "finished-alliance",
        "outputId": "8d9d74f8-d00e-4b28-a136-581689355677"
      },
      "outputs": [
        {
          "data": {
            "text/plain": [
              "0.9970542251586834"
            ]
          },
          "execution_count": 40,
          "metadata": {},
          "output_type": "execute_result"
        }
      ],
      "source": [
        "from sklearn.metrics import accuracy_score\n",
        "accuracy_score(y_test, RF_y_pred_test)"
      ]
    },
    {
      "cell_type": "code",
      "execution_count": null,
      "id": "intense-record",
      "metadata": {
        "id": "intense-record",
        "outputId": "b002c32a-f7dd-43ba-c6dc-0f8f35c14c06"
      },
      "outputs": [
        {
          "name": "stderr",
          "output_type": "stream",
          "text": [
            "c:\\users\\asus\\appdata\\local\\programs\\python\\python39\\lib\\site-packages\\sklearn\\utils\\validation.py:70: FutureWarning: Pass labels=[1, 0] as keyword args. From version 1.0 (renaming of 0.25) passing these as positional arguments will result in an error\n",
            "  warnings.warn(f\"Pass {args_msg} as keyword args. From version \"\n"
          ]
        },
        {
          "data": {
            "image/png": "[encoded data removed]",
            "text/plain": [
              "<Figure size 432x288 with 2 Axes>"
            ]
          },
          "metadata": {
            "needs_background": "light"
          },
          "output_type": "display_data"
        }
      ],
      "source": [
        "draw_cm( y_test, RF_y_pred_test)"
      ]
    },
    {
      "cell_type": "code",
      "execution_count": null,
      "id": "ultimate-salmon",
      "metadata": {
        "id": "ultimate-salmon"
      },
      "outputs": [],
      "source": [
        "import matplotlib.pyplot as plt\n",
        "import seaborn as sns\n",
        "from sklearn import metrics"
      ]
    },
    {
      "cell_type": "code",
      "execution_count": null,
      "id": "given-lecture",
      "metadata": {
        "id": "given-lecture",
        "outputId": "daa0b406-e4e1-4726-bfc9-84d7e542943e"
      },
      "outputs": [
        {
          "name": "stdout",
          "output_type": "stream",
          "text": [
            "[[1330559    3867]\n",
            " [     69    1656]]\n"
          ]
        }
      ],
      "source": [
        "cm = metrics.confusion_matrix(y_test, RF_y_pred_test)\n",
        "print(cm)"
      ]
    },
    {
      "cell_type": "code",
      "execution_count": null,
      "id": "general-grenada",
      "metadata": {
        "id": "general-grenada",
        "outputId": "7e118ac6-3a75-4013-d1c0-c9b1f347fe14"
      },
      "outputs": [
        {
          "name": "stdout",
          "output_type": "stream",
          "text": [
            "0.9993615991007004\n"
          ]
        }
      ],
      "source": [
        "# Use score method to get accuracy of model\n",
        "RFscore = RF.score(X_test, y_test)\n",
        "print(score)"
      ]
    },
    {
      "cell_type": "code",
      "execution_count": null,
      "id": "pediatric-artist",
      "metadata": {
        "id": "pediatric-artist",
        "outputId": "f486f4c4-9b7d-494c-d753-b2435c5a4ca7"
      },
      "outputs": [
        {
          "data": {
            "image/png": "[encoded data removed]",
            "text/plain": [
              "<Figure size 648x648 with 2 Axes>"
            ]
          },
          "metadata": {
            "needs_background": "light"
          },
          "output_type": "display_data"
        }
      ],
      "source": [
        "plt.figure(figsize=(9,9))\n",
        "sns.heatmap(cm, annot=True, fmt=\".3f\", linewidths=.5, square = True, cmap = 'Blues_r');\n",
        "plt.ylabel('Actual label');\n",
        "plt.xlabel('Predicted label');\n",
        "all_sample_title = 'Accuracy Score: {0}'.format(RFscore)\n",
        "plt.title(all_sample_title, size = 15);"
      ]
    },
    {
      "cell_type": "markdown",
      "id": "stunning-questionnaire",
      "metadata": {
        "id": "stunning-questionnaire"
      },
      "source": [
        "# Fitting Best Model"
      ]
    },
    {
      "cell_type": "markdown",
      "id": "leading-adrian",
      "metadata": {
        "id": "leading-adrian"
      },
      "source": [
        "-"
      ]
    },
    {
      "cell_type": "markdown",
      "id": "nervous-letter",
      "metadata": {
        "id": "nervous-letter"
      },
      "source": [
        "# - AUC "
      ]
    },
    {
      "cell_type": "code",
      "execution_count": null,
      "id": "utility-snowboard",
      "metadata": {
        "id": "utility-snowboard",
        "outputId": "1c426618-68d1-46ec-b68f-601e69a6752e"
      },
      "outputs": [
        {
          "name": "stdout",
          "output_type": "stream",
          "text": [
            "Fitting 5 folds for each of 2 candidates, totalling 10 fits\n",
            "{'clf__max_depth': 2, 'clf__n_estimators': 500}\n",
            "0.998502435550759\n"
          ]
        }
      ],
      "source": [
        "cv = GridSearchCV(RF,parameters,scoring=\"roc_auc\",verbose=True,n_jobs=6)\n",
        "cv.fit(X_test,y_test)\n",
        "print(cv.best_params_)\n",
        "print(cv.best_score_)"
      ]
    },
    {
      "cell_type": "code",
      "execution_count": null,
      "id": "broken-suite",
      "metadata": {
        "id": "broken-suite",
        "outputId": "44a73791-cd6a-4f5e-9a02-471287197c81"
      },
      "outputs": [
        {
          "data": {
            "text/plain": [
              "<AxesSubplot:xlabel='Importance', ylabel='Variable'>"
            ]
          },
          "execution_count": 47,
          "metadata": {},
          "output_type": "execute_result"
        },
        {
          "data": {
            "image/png": "[encoded data removed]",
            "text/plain": [
              "<Figure size 432x288 with 1 Axes>"
            ]
          },
          "metadata": {
            "needs_background": "light"
          },
          "output_type": "display_data"
        }
      ],
      "source": [
        "imp = pd.DataFrame({\"Variable\":list(X_train.columns),\"Importance\":cv.best_estimator_['clf'].feature_importances_})\n",
        "imp = imp.sort_values(\"Importance\",ascending=False)\n",
        "sns.barplot(x=imp.Importance.head(10),y=imp.Variable.head(10))"
      ]
    },
    {
      "cell_type": "code",
      "execution_count": null,
      "id": "powered-politics",
      "metadata": {
        "id": "powered-politics"
      },
      "outputs": [],
      "source": [
        "# Function to give best model score and parameters\n",
        "def best_model(model):\n",
        "    print(model.best_score_)    \n",
        "    print(model.best_params_)\n",
        "    print(model.best_estimator_)\n",
        "def get_auc_scores(y_actual, method,method2):\n",
        "    auc_score = roc_auc_score(y_actual, method); \n",
        "    fpr_df, tpr_df, _ = roc_curve(y_actual, method2); \n",
        "    return (auc_score, fpr_df, tpr_df)"
      ]
    },
    {
      "cell_type": "markdown",
      "id": "acoustic-juice",
      "metadata": {
        "id": "acoustic-juice"
      },
      "source": [
        "**using Test Data**"
      ]
    },
    {
      "cell_type": "code",
      "execution_count": null,
      "id": "retained-violin",
      "metadata": {
        "id": "retained-violin",
        "outputId": "2881a260-4d61-4c64-ed09-bdc7de7157b8"
      },
      "outputs": [
        {
          "name": "stdout",
          "output_type": "stream",
          "text": [
            "AUC of logistic regression classifier is 0.8348890910831152\n",
            "AUC of Random Forest classifier is 0.6498925949349819\n"
          ]
        }
      ],
      "source": [
        "from sklearn.metrics import classification_report,roc_auc_score,roc_curve\n",
        "\n",
        "print(f\"AUC of logistic regression classifier is {roc_auc_score(logreg.predict(X_test),y_test)}\")\n",
        "print(f\"AUC of Random Forest classifier is {roc_auc_score(RF.predict(X_test),y_test)}\")"
      ]
    },
    {
      "cell_type": "code",
      "execution_count": null,
      "id": "partial-inside",
      "metadata": {
        "id": "partial-inside",
        "outputId": "2fd7a99f-b135-4b10-cd98-22ba0dbfd6e1"
      },
      "outputs": [
        {
          "data": {
            "image/png": "[encoded data removed]",
            "text/plain": [
              "<Figure size 432x288 with 1 Axes>"
            ]
          },
          "metadata": {
            "needs_background": "light"
          },
          "output_type": "display_data"
        }
      ],
      "source": [
        "sns.barplot(x=[\"Logistic Regression\",\"Random Forest\"],\n",
        "            y=[roc_auc_score(logreg.predict(X_test),y_test),\n",
        "               roc_auc_score(RF.predict(X_test),y_test)])\n",
        "plt.ylabel(\"AUC\")\n",
        "plt.show()"
      ]
    },
    {
      "cell_type": "markdown",
      "id": "guilty-thanks",
      "metadata": {
        "id": "guilty-thanks"
      },
      "source": [
        "# ROC Curve"
      ]
    },
    {
      "cell_type": "code",
      "execution_count": null,
      "id": "bored-blowing",
      "metadata": {
        "id": "bored-blowing"
      },
      "outputs": [],
      "source": [
        "def get_auc_scores(y_actual, method,method2):\n",
        "    auc_score = roc_auc_score(y_actual, method); \n",
        "    fpr_df, tpr_df, _ = roc_curve(y_actual, method2); \n",
        "    return (auc_score, fpr_df, tpr_df)"
      ]
    },
    {
      "cell_type": "code",
      "execution_count": null,
      "id": "nominated-minutes",
      "metadata": {
        "id": "nominated-minutes",
        "outputId": "996df283-f9ee-47fb-fc20-1929c91e93cd"
      },
      "outputs": [
        {
          "data": {
            "image/png": "[encoded data removed]",
            "text/plain": [
              "<Figure size 864x432 with 1 Axes>"
            ]
          },
          "metadata": {
            "needs_background": "light"
          },
          "output_type": "display_data"
        }
      ],
      "source": [
        "auc_logreg, fpr_logreg, tpr_logreg = get_auc_scores(y_test, y_pred_test, logreg.predict_proba(X_test)[:,1])\n",
        "auc_RF, fpr_RF, tpr_RF = get_auc_scores(y_test, RF_y_pred_test, RF.predict_proba(X_test)[:,1])\n",
        "\n",
        "plt.figure(figsize = (12,6), linewidth= 1)\n",
        "\n",
        "plt.plot(fpr_logreg, tpr_logreg, label = 'Logistic Regression Score: ' + str(round(auc_logreg, 5)))\n",
        "plt.plot(fpr_RF, tpr_RF, label = 'Random Forest Score: ' + str(round(auc_RF, 5)))\n",
        "\n",
        "plt.plot([0,1], [0,1], 'k--', label = 'Random: 0.5')\n",
        "plt.xlabel('False positive rate')\n",
        "plt.ylabel('True positive rate')\n",
        "plt.title('ROC Curve')\n",
        "plt.legend(loc='best')\n",
        "#plt.savefig('roc_results_ratios.png')\n",
        "plt.show()"
      ]
    },
    {
      "cell_type": "code",
      "execution_count": null,
      "id": "novel-burke",
      "metadata": {
        "id": "novel-burke"
      },
      "outputs": [],
      "source": [
        ""
      ]
    }
  ],
  "metadata": {
    "kernelspec": {
      "display_name": "Python 3",
      "language": "python",
      "name": "python3"
    },
    "language_info": {
      "codemirror_mode": {
        "name": "ipython",
        "version": 3
      },
      "file_extension": ".py",
      "mimetype": "text/x-python",
      "name": "python",
      "nbconvert_exporter": "python",
      "pygments_lexer": "ipython3",
      "version": "3.9.2"
    },
    "colab": {
      "name": "Fraud",
      "provenance": [],
      "include_colab_link": true
    }
  },
  "nbformat": 4,
  "nbformat_minor": 5
}